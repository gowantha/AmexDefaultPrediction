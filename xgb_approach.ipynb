{
 "metadata": {
  "kernelspec": {
   "language": "python",
   "display_name": "Python 3",
   "name": "python3"
  },
  "language_info": {
   "name": "python",
   "version": "3.7.12",
   "mimetype": "text/x-python",
   "codemirror_mode": {
    "name": "ipython",
    "version": 3
   },
   "pygments_lexer": "ipython3",
   "nbconvert_exporter": "python",
   "file_extension": ".py"
  }
 },
 "nbformat_minor": 4,
 "nbformat": 4,
 "cells": [
  {
   "cell_type": "code",
   "source": [
    "import numpy as np\n",
    "import pandas as pd\n",
    "import seaborn as sns\n",
    "import matplotlib.pyplot as plt\n",
    "import gc\n",
    "\n",
    "import warnings\n",
    "warnings.filterwarnings(\"ignore\")\n",
    "\n",
    "import os\n",
    "for dirname, _, filenames in os.walk('/kaggle/input'):\n",
    "    for filename in filenames:\n",
    "        print(os.path.join(dirname, filename))"
   ],
   "metadata": {
    "execution": {
     "iopub.status.busy": "2023-01-16T11:28:45.095783Z",
     "iopub.execute_input": "2023-01-16T11:28:45.096999Z",
     "iopub.status.idle": "2023-01-16T11:28:45.753648Z",
     "shell.execute_reply.started": "2023-01-16T11:28:45.096896Z",
     "shell.execute_reply": "2023-01-16T11:28:45.752499Z"
    },
    "trusted": true
   },
   "execution_count": 1,
   "outputs": [
    {
     "name": "stdout",
     "text": "/kaggle/input/amexfeather/test_data_f32.ftr\n/kaggle/input/amexfeather/train_data.ftr\n/kaggle/input/amexfeather/train_data_f32.ftr\n/kaggle/input/amexfeather/test_data.ftr\n/kaggle/input/amex-default-prediction/sample_submission.csv\n/kaggle/input/amex-default-prediction/train_data.csv\n/kaggle/input/amex-default-prediction/test_data.csv\n/kaggle/input/amex-default-prediction/train_labels.csv\n",
     "output_type": "stream"
    }
   ]
  },
  {
   "cell_type": "code",
   "source": [
    "raw_train_dataset = pd.read_feather('../input/amexfeather/train_data.ftr')\n",
    "\n",
    "# Keep the latest statement records for each customer, set customer_ID as the index, and sort by customer_ID\n",
    "train_dataset = raw_train_dataset.groupby('customer_ID').tail(1).set_index('customer_ID', drop=True).sort_index()\n",
    "del raw_train_dataset\n",
    "gc.collect()"
   ],
   "metadata": {
    "_uuid": "8f2839f25d086af736a60e9eeb907d3b93b6e0e5",
    "_cell_guid": "b1076dfc-b9ad-4769-8c92-a6c4dae69d19",
    "execution": {
     "iopub.status.busy": "2023-01-16T11:28:45.755785Z",
     "iopub.execute_input": "2023-01-16T11:28:45.756395Z",
     "iopub.status.idle": "2023-01-16T11:29:07.418778Z",
     "shell.execute_reply.started": "2023-01-16T11:28:45.756351Z",
     "shell.execute_reply": "2023-01-16T11:29:07.417768Z"
    },
    "trusted": true
   },
   "execution_count": 2,
   "outputs": [
    {
     "execution_count": 2,
     "output_type": "execute_result",
     "data": {
      "text/plain": "0"
     },
     "metadata": {}
    }
   ]
  },
  {
   "cell_type": "code",
   "source": [
    "train_dataset.head()"
   ],
   "metadata": {
    "execution": {
     "iopub.status.busy": "2023-01-16T11:29:07.419959Z",
     "iopub.execute_input": "2023-01-16T11:29:07.420519Z",
     "iopub.status.idle": "2023-01-16T11:29:07.453007Z",
     "shell.execute_reply.started": "2023-01-16T11:29:07.420483Z",
     "shell.execute_reply": "2023-01-16T11:29:07.451940Z"
    },
    "trusted": true
   },
   "execution_count": 3,
   "outputs": [
    {
     "execution_count": 3,
     "output_type": "execute_result",
     "data": {
      "text/plain": "                                                          S_2       P_2  \\\ncustomer_ID                                                               \n0000099d6bd597052cdcda90ffabf56573fe9d7c79be5fb... 2018-03-13  0.934570   \n00000fd6641609c6ece5454664794f0340ad84dddce9a26... 2018-03-25  0.880371   \n00001b22f846c82c51f6e3958ccd81970162bae8b007e80... 2018-03-12  0.880859   \n000041bdba6ecadd89a52d11886e8eaaec9325906c97233... 2018-03-29  0.621582   \n00007889e4fcd2614b6cbe7f8f3d2e5c728eca32d9eb8ad... 2018-03-30  0.872070   \n\n                                                        D_39       B_1  \\\ncustomer_ID                                                              \n0000099d6bd597052cdcda90ffabf56573fe9d7c79be5fb...  0.009117  0.009384   \n00000fd6641609c6ece5454664794f0340ad84dddce9a26...  0.178101  0.034698   \n00001b22f846c82c51f6e3958ccd81970162bae8b007e80...  0.009705  0.004284   \n000041bdba6ecadd89a52d11886e8eaaec9325906c97233...  0.001082  0.012566   \n00007889e4fcd2614b6cbe7f8f3d2e5c728eca32d9eb8ad...  0.005573  0.007679   \n\n                                                         B_2       R_1  \\\ncustomer_ID                                                              \n0000099d6bd597052cdcda90ffabf56573fe9d7c79be5fb...  1.007812  0.006104   \n00000fd6641609c6ece5454664794f0340ad84dddce9a26...  1.003906  0.006912   \n00001b22f846c82c51f6e3958ccd81970162bae8b007e80...  0.812500  0.006451   \n000041bdba6ecadd89a52d11886e8eaaec9325906c97233...  1.005859  0.007828   \n00007889e4fcd2614b6cbe7f8f3d2e5c728eca32d9eb8ad...  0.815918  0.001247   \n\n                                                         S_3      D_41  \\\ncustomer_ID                                                              \n0000099d6bd597052cdcda90ffabf56573fe9d7c79be5fb...  0.135010  0.001604   \n00000fd6641609c6ece5454664794f0340ad84dddce9a26...  0.165527  0.005550   \n00001b22f846c82c51f6e3958ccd81970162bae8b007e80...       NaN  0.003796   \n000041bdba6ecadd89a52d11886e8eaaec9325906c97233...  0.287842  0.004532   \n00007889e4fcd2614b6cbe7f8f3d2e5c728eca32d9eb8ad...       NaN  0.000231   \n\n                                                         B_3  D_42  ...  \\\ncustomer_ID                                                         ...   \n0000099d6bd597052cdcda90ffabf56573fe9d7c79be5fb...  0.007175   NaN  ...   \n00000fd6641609c6ece5454664794f0340ad84dddce9a26...  0.005070   NaN  ...   \n00001b22f846c82c51f6e3958ccd81970162bae8b007e80...  0.007195   NaN  ...   \n000041bdba6ecadd89a52d11886e8eaaec9325906c97233...  0.009941   NaN  ...   \n00007889e4fcd2614b6cbe7f8f3d2e5c728eca32d9eb8ad...  0.005527   NaN  ...   \n\n                                                    D_137  D_138     D_139  \\\ncustomer_ID                                                                  \n0000099d6bd597052cdcda90ffabf56573fe9d7c79be5fb...    NaN    NaN  0.007187   \n00000fd6641609c6ece5454664794f0340ad84dddce9a26...    NaN    NaN  0.002981   \n00001b22f846c82c51f6e3958ccd81970162bae8b007e80...    NaN    NaN  0.007381   \n000041bdba6ecadd89a52d11886e8eaaec9325906c97233...    NaN    NaN  0.002705   \n00007889e4fcd2614b6cbe7f8f3d2e5c728eca32d9eb8ad...    NaN    NaN  0.002974   \n\n                                                       D_140     D_141  D_142  \\\ncustomer_ID                                                                     \n0000099d6bd597052cdcda90ffabf56573fe9d7c79be5fb...  0.004234  0.005085    NaN   \n00000fd6641609c6ece5454664794f0340ad84dddce9a26...  0.007481  0.007874    NaN   \n00001b22f846c82c51f6e3958ccd81970162bae8b007e80...  0.006622  0.000965    NaN   \n000041bdba6ecadd89a52d11886e8eaaec9325906c97233...  0.006184  0.001899    NaN   \n00007889e4fcd2614b6cbe7f8f3d2e5c728eca32d9eb8ad...  0.004162  0.005764    NaN   \n\n                                                       D_143     D_144  \\\ncustomer_ID                                                              \n0000099d6bd597052cdcda90ffabf56573fe9d7c79be5fb...  0.005810  0.002970   \n00000fd6641609c6ece5454664794f0340ad84dddce9a26...  0.003284  0.003170   \n00001b22f846c82c51f6e3958ccd81970162bae8b007e80...  0.002201  0.000834   \n000041bdba6ecadd89a52d11886e8eaaec9325906c97233...  0.008186  0.005558   \n00007889e4fcd2614b6cbe7f8f3d2e5c728eca32d9eb8ad...  0.008156  0.006943   \n\n                                                       D_145  target  \ncustomer_ID                                                           \n0000099d6bd597052cdcda90ffabf56573fe9d7c79be5fb...  0.008530       0  \n00000fd6641609c6ece5454664794f0340ad84dddce9a26...  0.008514       0  \n00001b22f846c82c51f6e3958ccd81970162bae8b007e80...  0.003445       0  \n000041bdba6ecadd89a52d11886e8eaaec9325906c97233...  0.002983       0  \n00007889e4fcd2614b6cbe7f8f3d2e5c728eca32d9eb8ad...  0.000905       0  \n\n[5 rows x 190 columns]",
      "text/html": "<div>\n<style scoped>\n    .dataframe tbody tr th:only-of-type {\n        vertical-align: middle;\n    }\n\n    .dataframe tbody tr th {\n        vertical-align: top;\n    }\n\n    .dataframe thead th {\n        text-align: right;\n    }\n</style>\n<table border=\"1\" class=\"dataframe\">\n  <thead>\n    <tr style=\"text-align: right;\">\n      <th></th>\n      <th>S_2</th>\n      <th>P_2</th>\n      <th>D_39</th>\n      <th>B_1</th>\n      <th>B_2</th>\n      <th>R_1</th>\n      <th>S_3</th>\n      <th>D_41</th>\n      <th>B_3</th>\n      <th>D_42</th>\n      <th>...</th>\n      <th>D_137</th>\n      <th>D_138</th>\n      <th>D_139</th>\n      <th>D_140</th>\n      <th>D_141</th>\n      <th>D_142</th>\n      <th>D_143</th>\n      <th>D_144</th>\n      <th>D_145</th>\n      <th>target</th>\n    </tr>\n    <tr>\n      <th>customer_ID</th>\n      <th></th>\n      <th></th>\n      <th></th>\n      <th></th>\n      <th></th>\n      <th></th>\n      <th></th>\n      <th></th>\n      <th></th>\n      <th></th>\n      <th></th>\n      <th></th>\n      <th></th>\n      <th></th>\n      <th></th>\n      <th></th>\n      <th></th>\n      <th></th>\n      <th></th>\n      <th></th>\n      <th></th>\n    </tr>\n  </thead>\n  <tbody>\n    <tr>\n      <th>0000099d6bd597052cdcda90ffabf56573fe9d7c79be5fbac11a8ed792feb62a</th>\n      <td>2018-03-13</td>\n      <td>0.934570</td>\n      <td>0.009117</td>\n      <td>0.009384</td>\n      <td>1.007812</td>\n      <td>0.006104</td>\n      <td>0.135010</td>\n      <td>0.001604</td>\n      <td>0.007175</td>\n      <td>NaN</td>\n      <td>...</td>\n      <td>NaN</td>\n      <td>NaN</td>\n      <td>0.007187</td>\n      <td>0.004234</td>\n      <td>0.005085</td>\n      <td>NaN</td>\n      <td>0.005810</td>\n      <td>0.002970</td>\n      <td>0.008530</td>\n      <td>0</td>\n    </tr>\n    <tr>\n      <th>00000fd6641609c6ece5454664794f0340ad84dddce9a267a310b5ae68e9d8e5</th>\n      <td>2018-03-25</td>\n      <td>0.880371</td>\n      <td>0.178101</td>\n      <td>0.034698</td>\n      <td>1.003906</td>\n      <td>0.006912</td>\n      <td>0.165527</td>\n      <td>0.005550</td>\n      <td>0.005070</td>\n      <td>NaN</td>\n      <td>...</td>\n      <td>NaN</td>\n      <td>NaN</td>\n      <td>0.002981</td>\n      <td>0.007481</td>\n      <td>0.007874</td>\n      <td>NaN</td>\n      <td>0.003284</td>\n      <td>0.003170</td>\n      <td>0.008514</td>\n      <td>0</td>\n    </tr>\n    <tr>\n      <th>00001b22f846c82c51f6e3958ccd81970162bae8b007e80662ef27519fcc18c1</th>\n      <td>2018-03-12</td>\n      <td>0.880859</td>\n      <td>0.009705</td>\n      <td>0.004284</td>\n      <td>0.812500</td>\n      <td>0.006451</td>\n      <td>NaN</td>\n      <td>0.003796</td>\n      <td>0.007195</td>\n      <td>NaN</td>\n      <td>...</td>\n      <td>NaN</td>\n      <td>NaN</td>\n      <td>0.007381</td>\n      <td>0.006622</td>\n      <td>0.000965</td>\n      <td>NaN</td>\n      <td>0.002201</td>\n      <td>0.000834</td>\n      <td>0.003445</td>\n      <td>0</td>\n    </tr>\n    <tr>\n      <th>000041bdba6ecadd89a52d11886e8eaaec9325906c9723355abb5ca523658edc</th>\n      <td>2018-03-29</td>\n      <td>0.621582</td>\n      <td>0.001082</td>\n      <td>0.012566</td>\n      <td>1.005859</td>\n      <td>0.007828</td>\n      <td>0.287842</td>\n      <td>0.004532</td>\n      <td>0.009941</td>\n      <td>NaN</td>\n      <td>...</td>\n      <td>NaN</td>\n      <td>NaN</td>\n      <td>0.002705</td>\n      <td>0.006184</td>\n      <td>0.001899</td>\n      <td>NaN</td>\n      <td>0.008186</td>\n      <td>0.005558</td>\n      <td>0.002983</td>\n      <td>0</td>\n    </tr>\n    <tr>\n      <th>00007889e4fcd2614b6cbe7f8f3d2e5c728eca32d9eb8ad51ca8b8c4a24cefed</th>\n      <td>2018-03-30</td>\n      <td>0.872070</td>\n      <td>0.005573</td>\n      <td>0.007679</td>\n      <td>0.815918</td>\n      <td>0.001247</td>\n      <td>NaN</td>\n      <td>0.000231</td>\n      <td>0.005527</td>\n      <td>NaN</td>\n      <td>...</td>\n      <td>NaN</td>\n      <td>NaN</td>\n      <td>0.002974</td>\n      <td>0.004162</td>\n      <td>0.005764</td>\n      <td>NaN</td>\n      <td>0.008156</td>\n      <td>0.006943</td>\n      <td>0.000905</td>\n      <td>0</td>\n    </tr>\n  </tbody>\n</table>\n<p>5 rows × 190 columns</p>\n</div>"
     },
     "metadata": {}
    }
   ]
  },
  {
   "cell_type": "code",
   "source": [
    "# find the categorical columns\n",
    "categorical_cols = []\n",
    "for col in train_dataset.columns:\n",
    "    if train_dataset[col].dtypes == 'category':\n",
    "        categorical_cols.append(col)\n",
    "categorical_cols"
   ],
   "metadata": {
    "execution": {
     "iopub.status.busy": "2023-01-16T11:29:07.455174Z",
     "iopub.execute_input": "2023-01-16T11:29:07.455494Z",
     "iopub.status.idle": "2023-01-16T11:29:07.471124Z",
     "shell.execute_reply.started": "2023-01-16T11:29:07.455466Z",
     "shell.execute_reply": "2023-01-16T11:29:07.469964Z"
    },
    "trusted": true
   },
   "execution_count": 4,
   "outputs": [
    {
     "execution_count": 4,
     "output_type": "execute_result",
     "data": {
      "text/plain": "['D_63',\n 'D_64',\n 'D_66',\n 'D_68',\n 'B_30',\n 'B_38',\n 'D_114',\n 'D_116',\n 'D_117',\n 'D_120',\n 'D_126']"
     },
     "metadata": {}
    }
   ]
  },
  {
   "cell_type": "code",
   "source": [
    "numerical_cols = [col for col in train_dataset.columns if col not in categorical_cols + [\"target\"]]\n",
    "\n",
    "print(f'Total number of features: {len(train_dataset.columns)}')\n",
    "print(f'Total number of categorical features: {len(categorical_cols)}')\n",
    "print(f'Total number of continuos features: {len(numerical_cols)}')"
   ],
   "metadata": {
    "execution": {
     "iopub.status.busy": "2023-01-16T11:29:07.472395Z",
     "iopub.execute_input": "2023-01-16T11:29:07.472735Z",
     "iopub.status.idle": "2023-01-16T11:29:07.481721Z",
     "shell.execute_reply.started": "2023-01-16T11:29:07.472706Z",
     "shell.execute_reply": "2023-01-16T11:29:07.480767Z"
    },
    "trusted": true
   },
   "execution_count": 5,
   "outputs": [
    {
     "name": "stdout",
     "text": "Total number of features: 190\nTotal number of categorical features: 11\nTotal number of continuos features: 178\n",
     "output_type": "stream"
    }
   ]
  },
  {
   "cell_type": "code",
   "source": [
    "# add the date column to the list of columns to be dropped\n",
    "cols_to_drop = ['S_2']"
   ],
   "metadata": {
    "execution": {
     "iopub.status.busy": "2023-01-16T11:29:07.483162Z",
     "iopub.execute_input": "2023-01-16T11:29:07.483544Z",
     "iopub.status.idle": "2023-01-16T11:29:07.491588Z",
     "shell.execute_reply.started": "2023-01-16T11:29:07.483514Z",
     "shell.execute_reply": "2023-01-16T11:29:07.490551Z"
    },
    "trusted": true
   },
   "execution_count": 6,
   "outputs": []
  },
  {
   "cell_type": "code",
   "source": [
    "# cols_to_drop = []\n",
    "# find columns where 75% of the values are missing and add them to the list of columns to be dropped \n",
    "for col in train_dataset.columns:\n",
    "    if train_dataset[col].isna().sum()/train_dataset.shape[0] > 0.75:\n",
    "        cols_to_drop.append(col)\n",
    "print(len(cols_to_drop), cols_to_drop)"
   ],
   "metadata": {
    "execution": {
     "iopub.status.busy": "2023-01-16T11:29:07.493409Z",
     "iopub.execute_input": "2023-01-16T11:29:07.493830Z",
     "iopub.status.idle": "2023-01-16T11:29:07.973891Z",
     "shell.execute_reply.started": "2023-01-16T11:29:07.493789Z",
     "shell.execute_reply": "2023-01-16T11:29:07.972136Z"
    },
    "trusted": true
   },
   "execution_count": 7,
   "outputs": [
    {
     "name": "stdout",
     "text": "24 ['S_2', 'D_42', 'D_49', 'D_66', 'D_73', 'D_76', 'R_9', 'B_29', 'D_87', 'D_88', 'D_106', 'R_26', 'D_108', 'D_110', 'D_111', 'B_39', 'B_42', 'D_132', 'D_134', 'D_135', 'D_136', 'D_137', 'D_138', 'D_142']\n",
     "output_type": "stream"
    }
   ]
  },
  {
   "cell_type": "code",
   "source": [
    "train_dataset.shape\n",
    "# drop the columns where a majority of the values are missing\n",
    "train_dataset = train_dataset.drop(cols_to_drop, axis=1)\n",
    "train_dataset.shape"
   ],
   "metadata": {
    "execution": {
     "iopub.status.busy": "2023-01-16T11:29:07.975188Z",
     "iopub.execute_input": "2023-01-16T11:29:07.975527Z",
     "iopub.status.idle": "2023-01-16T11:29:08.292920Z",
     "shell.execute_reply.started": "2023-01-16T11:29:07.975495Z",
     "shell.execute_reply": "2023-01-16T11:29:08.292000Z"
    },
    "trusted": true
   },
   "execution_count": 8,
   "outputs": [
    {
     "execution_count": 8,
     "output_type": "execute_result",
     "data": {
      "text/plain": "(458913, 166)"
     },
     "metadata": {}
    }
   ]
  },
  {
   "cell_type": "code",
   "source": [
    "# find columns with missing numerical values and categorical values of the train dataset\n",
    "cols_with_missing_num_vals = []\n",
    "cols_with_missing_cat_vals = []\n",
    "for col in train_dataset.columns:\n",
    "    if train_dataset[col].isna().sum() > 0:\n",
    "        if col in numerical_cols:\n",
    "            cols_with_missing_num_vals.append(col)\n",
    "        else:\n",
    "            cols_with_missing_cat_vals.append(col)\n",
    "print(\"Columns with mising numerical values\", len(cols_with_missing_num_vals), cols_with_missing_num_vals)\n",
    "print(\"Columns with mising numerical values\", len(cols_with_missing_cat_vals), cols_with_missing_cat_vals)"
   ],
   "metadata": {
    "execution": {
     "iopub.status.busy": "2023-01-16T11:29:08.294223Z",
     "iopub.execute_input": "2023-01-16T11:29:08.294738Z",
     "iopub.status.idle": "2023-01-16T11:29:08.710799Z",
     "shell.execute_reply.started": "2023-01-16T11:29:08.294708Z",
     "shell.execute_reply": "2023-01-16T11:29:08.709696Z"
    },
    "trusted": true
   },
   "execution_count": 9,
   "outputs": [
    {
     "name": "stdout",
     "text": "Columns with mising numerical values 78 ['P_2', 'B_2', 'S_3', 'D_41', 'B_3', 'D_43', 'D_44', 'D_45', 'D_46', 'D_48', 'B_6', 'B_8', 'D_50', 'D_52', 'P_3', 'D_53', 'D_54', 'S_7', 'D_55', 'D_56', 'B_13', 'S_9', 'D_59', 'D_61', 'B_15', 'D_62', 'B_16', 'B_17', 'B_19', 'B_20', 'D_69', 'B_22', 'D_70', 'D_72', 'D_74', 'D_77', 'B_25', 'B_26', 'D_78', 'D_79', 'D_80', 'B_27', 'D_81', 'D_82', 'D_83', 'D_84', 'B_33', 'D_89', 'D_91', 'S_22', 'S_23', 'S_24', 'S_25', 'D_103', 'D_104', 'D_105', 'D_107', 'R_27', 'D_109', 'D_112', 'S_27', 'D_113', 'D_115', 'D_118', 'D_119', 'D_121', 'D_122', 'D_123', 'D_124', 'D_125', 'D_128', 'D_129', 'D_130', 'D_131', 'D_139', 'D_141', 'D_143', 'D_145']\nColumns with mising numerical values 7 ['D_68', 'B_30', 'B_38', 'D_114', 'D_116', 'D_117', 'D_120']\n",
     "output_type": "stream"
    }
   ]
  },
  {
   "cell_type": "code",
   "source": [
    "# impute the missing numerical values with its median of the train dataset\n",
    "for col in cols_with_missing_num_vals:\n",
    "    train_dataset[col] = train_dataset[col].fillna(train_dataset[col].median())\n",
    "# impute the missing categorical values with its mode of the train dataset\n",
    "for col in cols_with_missing_cat_vals:\n",
    "    train_dataset[col] =  train_dataset[col].fillna(train_dataset[col].mode()[0])"
   ],
   "metadata": {
    "execution": {
     "iopub.status.busy": "2023-01-16T11:29:08.716226Z",
     "iopub.execute_input": "2023-01-16T11:29:08.716655Z",
     "iopub.status.idle": "2023-01-16T11:29:10.326197Z",
     "shell.execute_reply.started": "2023-01-16T11:29:08.716624Z",
     "shell.execute_reply": "2023-01-16T11:29:10.325006Z"
    },
    "trusted": true
   },
   "execution_count": 10,
   "outputs": []
  },
  {
   "cell_type": "code",
   "source": [
    "train_dataset.isna().sum()"
   ],
   "metadata": {
    "execution": {
     "iopub.status.busy": "2023-01-16T11:29:10.327435Z",
     "iopub.execute_input": "2023-01-16T11:29:10.327777Z",
     "iopub.status.idle": "2023-01-16T11:29:10.685581Z",
     "shell.execute_reply.started": "2023-01-16T11:29:10.327747Z",
     "shell.execute_reply": "2023-01-16T11:29:10.684531Z"
    },
    "trusted": true
   },
   "execution_count": 11,
   "outputs": [
    {
     "execution_count": 11,
     "output_type": "execute_result",
     "data": {
      "text/plain": "P_2       0\nD_39      0\nB_1       0\nB_2       0\nR_1       0\n         ..\nD_141     0\nD_143     0\nD_144     0\nD_145     0\ntarget    0\nLength: 166, dtype: int64"
     },
     "metadata": {}
    }
   ]
  },
  {
   "cell_type": "code",
   "source": [
    "raw_test_dataset = pd.read_feather('../input/amexfeather/test_data.ftr')\n",
    "\n",
    "# Keep the latest statement records for each customer, set customer_ID as the index, and sort by customer_ID\n",
    "test_dataset = raw_test_dataset.groupby('customer_ID').tail(1).set_index('customer_ID', drop=True).sort_index()\n",
    "del raw_test_dataset\n",
    "gc.collect()"
   ],
   "metadata": {
    "execution": {
     "iopub.status.busy": "2023-01-16T11:29:10.687937Z",
     "iopub.execute_input": "2023-01-16T11:29:10.688392Z",
     "iopub.status.idle": "2023-01-16T11:29:55.184364Z",
     "shell.execute_reply.started": "2023-01-16T11:29:10.688348Z",
     "shell.execute_reply": "2023-01-16T11:29:55.183123Z"
    },
    "trusted": true
   },
   "execution_count": 12,
   "outputs": [
    {
     "execution_count": 12,
     "output_type": "execute_result",
     "data": {
      "text/plain": "69"
     },
     "metadata": {}
    }
   ]
  },
  {
   "cell_type": "code",
   "source": [
    "test_dataset.shape\n",
    "# drop the columns where a majority of the values are missing\n",
    "test_dataset = test_dataset.drop(cols_to_drop, axis=1)\n",
    "test_dataset.shape"
   ],
   "metadata": {
    "execution": {
     "iopub.status.busy": "2023-01-16T11:29:55.186586Z",
     "iopub.execute_input": "2023-01-16T11:29:55.187080Z",
     "iopub.status.idle": "2023-01-16T11:29:56.280109Z",
     "shell.execute_reply.started": "2023-01-16T11:29:55.187035Z",
     "shell.execute_reply": "2023-01-16T11:29:56.279122Z"
    },
    "trusted": true
   },
   "execution_count": 13,
   "outputs": [
    {
     "execution_count": 13,
     "output_type": "execute_result",
     "data": {
      "text/plain": "(924621, 165)"
     },
     "metadata": {}
    }
   ]
  },
  {
   "cell_type": "code",
   "source": [
    "test_dataset.isna().sum()"
   ],
   "metadata": {
    "execution": {
     "iopub.status.busy": "2023-01-16T11:29:56.281272Z",
     "iopub.execute_input": "2023-01-16T11:29:56.281798Z",
     "iopub.status.idle": "2023-01-16T11:29:57.214450Z",
     "shell.execute_reply.started": "2023-01-16T11:29:56.281765Z",
     "shell.execute_reply": "2023-01-16T11:29:57.213411Z"
    },
    "trusted": true
   },
   "execution_count": 14,
   "outputs": [
    {
     "execution_count": 14,
     "output_type": "execute_result",
     "data": {
      "text/plain": "P_2      4784\nD_39        0\nB_1         0\nB_2        43\nR_1         0\n         ... \nD_140       0\nD_141    5050\nD_143    5050\nD_144       0\nD_145    5050\nLength: 165, dtype: int64"
     },
     "metadata": {}
    }
   ]
  },
  {
   "cell_type": "code",
   "source": [
    "# find columns with missing numerical values and categorical values of the test dataset\n",
    "cols_with_missing_num_vals_test = []\n",
    "cols_with_missing_cat_vals_test = []\n",
    "for col in test_dataset.columns:\n",
    "    if test_dataset[col].isna().sum() > 0:\n",
    "        if col in numerical_cols:\n",
    "            cols_with_missing_num_vals_test.append(col)\n",
    "        else:\n",
    "            cols_with_missing_cat_vals_test.append(col)\n",
    "print(\"Columns with mising numerical values\", len(cols_with_missing_num_vals_test), cols_with_missing_num_vals_test)\n",
    "print(\"Columns with mising numerical values\", len(cols_with_missing_cat_vals_test), cols_with_missing_cat_vals_test)"
   ],
   "metadata": {
    "execution": {
     "iopub.status.busy": "2023-01-16T11:29:57.216000Z",
     "iopub.execute_input": "2023-01-16T11:29:57.216406Z",
     "iopub.status.idle": "2023-01-16T11:29:58.131174Z",
     "shell.execute_reply.started": "2023-01-16T11:29:57.216378Z",
     "shell.execute_reply": "2023-01-16T11:29:58.129948Z"
    },
    "trusted": true
   },
   "execution_count": 15,
   "outputs": [
    {
     "name": "stdout",
     "text": "Columns with mising numerical values 85 ['P_2', 'B_2', 'S_3', 'D_41', 'B_3', 'D_43', 'D_44', 'D_45', 'D_46', 'D_48', 'B_6', 'B_8', 'D_50', 'D_52', 'P_3', 'D_53', 'D_54', 'S_7', 'D_55', 'D_56', 'B_13', 'S_9', 'D_59', 'D_61', 'B_15', 'D_62', 'B_16', 'B_17', 'B_19', 'B_20', 'S_12', 'D_69', 'B_22', 'D_70', 'D_72', 'D_74', 'D_77', 'B_25', 'B_26', 'D_78', 'D_79', 'D_80', 'B_27', 'D_81', 'D_82', 'S_17', 'D_83', 'D_84', 'D_86', 'B_33', 'D_89', 'D_91', 'S_22', 'S_23', 'S_24', 'S_25', 'S_26', 'D_103', 'D_104', 'D_105', 'D_107', 'B_37', 'R_27', 'D_109', 'D_112', 'B_40', 'S_27', 'D_113', 'D_115', 'D_118', 'D_119', 'D_121', 'D_122', 'D_123', 'D_124', 'D_125', 'D_128', 'D_129', 'B_41', 'D_130', 'D_131', 'D_139', 'D_141', 'D_143', 'D_145']\nColumns with mising numerical values 7 ['D_68', 'B_30', 'B_38', 'D_114', 'D_116', 'D_117', 'D_120']\n",
     "output_type": "stream"
    }
   ]
  },
  {
   "cell_type": "code",
   "source": [
    "test_dataset.isna().sum()"
   ],
   "metadata": {
    "execution": {
     "iopub.status.busy": "2023-01-16T11:30:00.206889Z",
     "iopub.execute_input": "2023-01-16T11:30:00.207342Z",
     "iopub.status.idle": "2023-01-16T11:30:00.919435Z",
     "shell.execute_reply.started": "2023-01-16T11:30:00.207289Z",
     "shell.execute_reply": "2023-01-16T11:30:00.918253Z"
    },
    "trusted": true
   },
   "execution_count": 17,
   "outputs": [
    {
     "execution_count": 17,
     "output_type": "execute_result",
     "data": {
      "text/plain": "P_2      0\nD_39     0\nB_1      0\nB_2      0\nR_1      0\n        ..\nD_140    0\nD_141    0\nD_143    0\nD_144    0\nD_145    0\nLength: 165, dtype: int64"
     },
     "metadata": {}
    }
   ]
  },
  {
   "cell_type": "code",
   "source": [
    "train_dataset_without_target = train_dataset.drop([\"target\"],axis=1)\n",
    "\n",
    "#get the correlation matrix\n",
    "cor_matrix = train_dataset_without_target.corr()\n",
    "col_core = set()\n",
    "\n",
    "for i in range(len(cor_matrix.columns)):\n",
    "    for j in range(i):\n",
    "        # if the correlation score between two features is greater than 0.9, remove one feature\n",
    "        if(cor_matrix.iloc[i, j] > 0.9):\n",
    "            col_name = cor_matrix.columns[i]\n",
    "#             print(cor_matrix.columns[i], cor_matrix.columns[j])\n",
    "            col_core.add(col_name)\n",
    "col_core"
   ],
   "metadata": {
    "execution": {
     "iopub.status.busy": "2023-01-16T11:30:00.920768Z",
     "iopub.execute_input": "2023-01-16T11:30:00.921144Z",
     "iopub.status.idle": "2023-01-16T11:30:32.835304Z",
     "shell.execute_reply.started": "2023-01-16T11:30:00.921113Z",
     "shell.execute_reply": "2023-01-16T11:30:32.834143Z"
    },
    "trusted": true
   },
   "execution_count": 18,
   "outputs": [
    {
     "execution_count": 18,
     "output_type": "execute_result",
     "data": {
      "text/plain": "{'B_11',\n 'B_13',\n 'B_15',\n 'B_23',\n 'B_33',\n 'B_37',\n 'D_104',\n 'D_119',\n 'D_141',\n 'D_143',\n 'D_74',\n 'D_75',\n 'D_77',\n 'S_24',\n 'S_7'}"
     },
     "metadata": {}
    }
   ]
  },
  {
   "cell_type": "code",
   "source": [
    "print(train_dataset.shape)\n",
    "print(test_dataset.shape)\n",
    "\n",
    "# drop the columns with a high correlation ith other features\n",
    "train_dataset = train_dataset.drop(col_core, axis=1)\n",
    "test_dataset = test_dataset.drop(col_core, axis=1)\n",
    "print(train_dataset.shape)\n",
    "print(test_dataset.shape)"
   ],
   "metadata": {
    "execution": {
     "iopub.status.busy": "2023-01-16T11:30:32.836307Z",
     "iopub.execute_input": "2023-01-16T11:30:32.836618Z",
     "iopub.status.idle": "2023-01-16T11:30:33.975534Z",
     "shell.execute_reply.started": "2023-01-16T11:30:32.836577Z",
     "shell.execute_reply": "2023-01-16T11:30:33.974456Z"
    },
    "trusted": true
   },
   "execution_count": 19,
   "outputs": [
    {
     "name": "stdout",
     "text": "(458913, 166)\n(924621, 165)\n(458913, 151)\n(924621, 150)\n",
     "output_type": "stream"
    }
   ]
  },
  {
   "cell_type": "code",
   "source": [
    "trainX = train_dataset.drop(\"target\", axis = 1)\n",
    "trainY = train_dataset[\"target\"] "
   ],
   "metadata": {
    "execution": {
     "iopub.status.busy": "2023-01-16T11:30:33.977255Z",
     "iopub.execute_input": "2023-01-16T11:30:33.977807Z",
     "iopub.status.idle": "2023-01-16T11:30:34.431075Z",
     "shell.execute_reply.started": "2023-01-16T11:30:33.977763Z",
     "shell.execute_reply": "2023-01-16T11:30:34.429602Z"
    },
    "trusted": true
   },
   "execution_count": 20,
   "outputs": []
  },
  {
   "cell_type": "code",
   "source": [
    "print(train_dataset.shape)\n",
    "print(test_dataset.shape)\n",
    "print(trainX.shape)\n",
    "print(trainY.shape)"
   ],
   "metadata": {
    "execution": {
     "iopub.status.busy": "2023-01-16T11:30:34.433526Z",
     "iopub.execute_input": "2023-01-16T11:30:34.434635Z",
     "iopub.status.idle": "2023-01-16T11:30:34.441152Z",
     "shell.execute_reply.started": "2023-01-16T11:30:34.434564Z",
     "shell.execute_reply": "2023-01-16T11:30:34.439904Z"
    },
    "trusted": true
   },
   "execution_count": 21,
   "outputs": [
    {
     "name": "stdout",
     "text": "(458913, 151)\n(924621, 150)\n(458913, 150)\n(458913,)\n",
     "output_type": "stream"
    }
   ]
  },
  {
   "cell_type": "code",
   "source": [
    "categorical_cols.remove('D_66')"
   ],
   "metadata": {
    "execution": {
     "iopub.status.busy": "2023-01-16T11:30:34.442458Z",
     "iopub.execute_input": "2023-01-16T11:30:34.442900Z",
     "iopub.status.idle": "2023-01-16T11:30:34.454829Z",
     "shell.execute_reply.started": "2023-01-16T11:30:34.442870Z",
     "shell.execute_reply": "2023-01-16T11:30:34.453673Z"
    },
    "trusted": true
   },
   "execution_count": 22,
   "outputs": []
  },
  {
   "cell_type": "code",
   "source": [
    "for col in categorical_cols:\n",
    "    trainX[col] = trainX[col].astype(str)\n",
    "for col in categorical_cols:\n",
    "    test_dataset[col] = test_dataset[col].astype(str)"
   ],
   "metadata": {
    "execution": {
     "iopub.status.busy": "2023-01-16T11:30:34.456907Z",
     "iopub.execute_input": "2023-01-16T11:30:34.457348Z",
     "iopub.status.idle": "2023-01-16T11:30:41.209379Z",
     "shell.execute_reply.started": "2023-01-16T11:30:34.457306Z",
     "shell.execute_reply": "2023-01-16T11:30:41.208031Z"
    },
    "trusted": true
   },
   "execution_count": 23,
   "outputs": []
  },
  {
   "cell_type": "code",
   "source": [
    "trainX = pd.get_dummies(trainX, columns = categorical_cols)\n",
    "test_dataset = pd.get_dummies(test_dataset, columns = categorical_cols)\n",
    "\n",
    "test_dataset = test_dataset.reindex(columns = trainX.columns, fill_value=0)"
   ],
   "metadata": {
    "execution": {
     "iopub.status.busy": "2023-01-16T11:30:41.211036Z",
     "iopub.execute_input": "2023-01-16T11:30:41.211396Z",
     "iopub.status.idle": "2023-01-16T11:30:46.293779Z",
     "shell.execute_reply.started": "2023-01-16T11:30:41.211363Z",
     "shell.execute_reply": "2023-01-16T11:30:46.292671Z"
    },
    "trusted": true
   },
   "execution_count": 24,
   "outputs": []
  },
  {
   "cell_type": "code",
   "source": [
    "print(train_dataset.shape)\n",
    "print(test_dataset.shape)\n",
    "print(trainX.shape)\n",
    "print(trainY.shape)"
   ],
   "metadata": {
    "execution": {
     "iopub.status.busy": "2023-01-16T11:30:46.295084Z",
     "iopub.execute_input": "2023-01-16T11:30:46.295404Z",
     "iopub.status.idle": "2023-01-16T11:30:46.301946Z",
     "shell.execute_reply.started": "2023-01-16T11:30:46.295376Z",
     "shell.execute_reply": "2023-01-16T11:30:46.300642Z"
    },
    "trusted": true
   },
   "execution_count": 25,
   "outputs": [
    {
     "name": "stdout",
     "text": "(458913, 151)\n(924621, 181)\n(458913, 181)\n(458913,)\n",
     "output_type": "stream"
    }
   ]
  },
  {
   "cell_type": "code",
   "source": [
    "# from sklearn.model_selection import train_test_split"
   ],
   "metadata": {
    "execution": {
     "iopub.status.busy": "2023-01-16T11:30:46.303402Z",
     "iopub.execute_input": "2023-01-16T11:30:46.303765Z",
     "iopub.status.idle": "2023-01-16T11:30:46.311433Z",
     "shell.execute_reply.started": "2023-01-16T11:30:46.303733Z",
     "shell.execute_reply": "2023-01-16T11:30:46.310473Z"
    },
    "trusted": true
   },
   "execution_count": 26,
   "outputs": []
  },
  {
   "cell_type": "code",
   "source": [
    "# X_train, X_test, y_train, y_test = train_test_split( trainX, trainY, test_size=0.3, random_state=69)"
   ],
   "metadata": {
    "execution": {
     "iopub.status.busy": "2023-01-16T11:30:46.312823Z",
     "iopub.execute_input": "2023-01-16T11:30:46.313261Z",
     "iopub.status.idle": "2023-01-16T11:30:46.321518Z",
     "shell.execute_reply.started": "2023-01-16T11:30:46.313230Z",
     "shell.execute_reply": "2023-01-16T11:30:46.320574Z"
    },
    "trusted": true
   },
   "execution_count": 27,
   "outputs": []
  },
  {
   "cell_type": "code",
   "source": [
    "# from imblearn.over_sampling import SMOTE\n",
    "\n",
    "# # oversample to handle class imbalance\n",
    "# oversample = SMOTE()\n",
    "# X_train, y_train = oversample.fit_resample(X_train, y_train)"
   ],
   "metadata": {
    "execution": {
     "iopub.status.busy": "2023-01-16T11:30:46.345223Z",
     "iopub.execute_input": "2023-01-16T11:30:46.345551Z",
     "iopub.status.idle": "2023-01-16T11:30:46.353086Z",
     "shell.execute_reply.started": "2023-01-16T11:30:46.345522Z",
     "shell.execute_reply": "2023-01-16T11:30:46.352341Z"
    },
    "trusted": true
   },
   "execution_count": 30,
   "outputs": []
  },
  {
   "cell_type": "code",
   "source": [
    "# from sklearn.preprocessing import MinMaxScaler\n",
    "# scaling = MinMaxScaler(feature_range=(-1,1)).fit(X_train)\n",
    "# X_train = scaling.transform(X_train)\n",
    "# X_test = scaling.transform(X_test)"
   ],
   "metadata": {},
   "execution_count": null,
   "outputs": []
  },
  {
   "cell_type": "code",
   "source": [
    "# import xgboost as xgb"
   ],
   "metadata": {},
   "execution_count": null,
   "outputs": []
  },
  {
   "cell_type": "code",
   "source": [
    "# xgbClassificationModel = xgb.XGBClassifier(objective = 'reg:logistic', max_depth = 5, seed = 0, n_estimators=1000,eta = 0.05)"
   ],
   "metadata": {},
   "execution_count": null,
   "outputs": []
  },
  {
   "cell_type": "code",
   "source": [
    "# xgbClassificationModel.fit(X_train, y_train)"
   ],
   "metadata": {},
   "execution_count": null,
   "outputs": []
  },
  {
   "cell_type": "code",
   "source": [
    "# def amex_metric(y_true: pd.DataFrame, y_pred: pd.DataFrame) -> float:\n",
    "\n",
    "#     def top_four_percent_captured(y_true: pd.DataFrame, y_pred: pd.DataFrame) -> float:\n",
    "#         df = (pd.concat([y_true, y_pred], axis='columns')\n",
    "#               .sort_values('prediction', ascending=False))\n",
    "#         df['weight'] = df['target'].apply(lambda x: 20 if x==0 else 1)\n",
    "#         four_pct_cutoff = int(0.04 * df['weight'].sum())\n",
    "#         df['weight_cumsum'] = df['weight'].cumsum()\n",
    "#         df_cutoff = df.loc[df['weight_cumsum'] <= four_pct_cutoff]\n",
    "#         return (df_cutoff['target'] == 1).sum() / (df['target'] == 1).sum()\n",
    "        \n",
    "#     def weighted_gini(y_true: pd.DataFrame, y_pred: pd.DataFrame) -> float:\n",
    "#         df = (pd.concat([y_true, y_pred], axis='columns')\n",
    "#               .sort_values('prediction', ascending=False))\n",
    "#         df['weight'] = df['target'].apply(lambda x: 20 if x==0 else 1)\n",
    "#         df['random'] = (df['weight'] / df['weight'].sum()).cumsum()\n",
    "#         total_pos = (df['target'] * df['weight']).sum()\n",
    "#         df['cum_pos_found'] = (df['target'] * df['weight']).cumsum()\n",
    "#         df['lorentz'] = df['cum_pos_found'] / total_pos\n",
    "#         df['gini'] = (df['lorentz'] - df['random']) * df['weight']\n",
    "#         return df['gini'].sum()\n",
    "\n",
    "#     def normalized_weighted_gini(y_true: pd.DataFrame, y_pred: pd.DataFrame) -> float:\n",
    "#         y_true_pred = y_true.rename(columns={'target': 'prediction'})\n",
    "#         return weighted_gini(y_true, y_pred) / weighted_gini(y_true, y_true_pred)\n",
    "\n",
    "#     g = normalized_weighted_gini(y_true, y_pred)\n",
    "#     d = top_four_percent_captured(y_true, y_pred)\n",
    "\n",
    "#     return 0.5 * (g + d)"
   ],
   "metadata": {
    "execution": {
     "iopub.status.busy": "2023-01-16T11:30:46.537567Z",
     "iopub.status.idle": "2023-01-16T11:30:46.537950Z",
     "shell.execute_reply.started": "2023-01-16T11:30:46.537773Z",
     "shell.execute_reply": "2023-01-16T11:30:46.537790Z"
    },
    "trusted": true
   },
   "execution_count": null,
   "outputs": []
  },
  {
   "cell_type": "code",
   "source": [
    "# predictions_xgb = xgbClassificationModel.predict_proba(X_test)"
   ],
   "metadata": {},
   "execution_count": null,
   "outputs": []
  },
  {
   "cell_type": "code",
   "source": [
    "# y_true = y_test.to_frame(name = 'target')\n",
    "# y_true = y_true.reset_index(drop=True)\n",
    "# y_pred = pd.DataFrame(predictions_xgb[:,1], columns = ['prediction'])"
   ],
   "metadata": {
    "execution": {
     "iopub.status.busy": "2023-01-16T11:30:46.542351Z",
     "iopub.status.idle": "2023-01-16T11:30:46.542721Z",
     "shell.execute_reply.started": "2023-01-16T11:30:46.542530Z",
     "shell.execute_reply": "2023-01-16T11:30:46.542547Z"
    },
    "trusted": true
   },
   "execution_count": null,
   "outputs": []
  },
  {
   "cell_type": "code",
   "source": [
    "# amex_metric(y_true, y_pred)"
   ],
   "metadata": {
    "execution": {
     "iopub.status.busy": "2023-01-16T11:30:46.544311Z",
     "iopub.status.idle": "2023-01-16T11:30:46.544707Z",
     "shell.execute_reply.started": "2023-01-16T11:30:46.544493Z",
     "shell.execute_reply": "2023-01-16T11:30:46.544511Z"
    },
    "trusted": true
   },
   "execution_count": null,
   "outputs": []
  },
  {
   "cell_type": "code",
   "source": [
    "from imblearn.over_sampling import SMOTE\n",
    "\n",
    "# oversample to handle class imbalance\n",
    "oversample = SMOTE()\n",
    "X_train, y_train = oversample.fit_resample(trainX, trainY)"
   ],
   "metadata": {
    "execution": {
     "iopub.status.busy": "2023-01-16T11:30:46.328844Z",
     "iopub.execute_input": "2023-01-16T11:30:46.329299Z",
     "iopub.status.idle": "2023-01-16T11:30:46.333291Z",
     "shell.execute_reply.started": "2023-01-16T11:30:46.329266Z",
     "shell.execute_reply": "2023-01-16T11:30:46.332525Z"
    },
    "trusted": true
   },
   "execution_count": 28,
   "outputs": []
  },
  {
   "cell_type": "code",
   "source": [
    "X_test = test_dataset"
   ],
   "metadata": {
    "execution": {
     "iopub.status.busy": "2023-01-16T11:30:46.334533Z",
     "iopub.execute_input": "2023-01-16T11:30:46.335676Z",
     "iopub.status.idle": "2023-01-16T11:30:46.343721Z",
     "shell.execute_reply.started": "2023-01-16T11:30:46.335631Z",
     "shell.execute_reply": "2023-01-16T11:30:46.342273Z"
    },
    "trusted": true
   },
   "execution_count": 29,
   "outputs": []
  },
  {
   "cell_type": "code",
   "source": [
    "from sklearn.preprocessing import MinMaxScaler\n",
    "scaling = MinMaxScaler(feature_range=(-1,1)).fit(X_train)\n",
    "X_train = scaling.transform(X_train)\n",
    "X_test = scaling.transform(X_test)"
   ],
   "metadata": {
    "execution": {
     "iopub.status.busy": "2023-01-16T11:30:46.354447Z",
     "iopub.execute_input": "2023-01-16T11:30:46.355458Z",
     "iopub.status.idle": "2023-01-16T11:30:46.526325Z",
     "shell.execute_reply.started": "2023-01-16T11:30:46.355416Z",
     "shell.execute_reply": "2023-01-16T11:30:46.524502Z"
    },
    "trusted": true
   },
   "execution_count": 31,
   "outputs": [
    {
     "traceback": [
      "\u001B[0;31m---------------------------------------------------------------------------\u001B[0m",
      "\u001B[0;31mNameError\u001B[0m                                 Traceback (most recent call last)",
      "\u001B[0;32m/tmp/ipykernel_27/4237610134.py\u001B[0m in \u001B[0;36m<module>\u001B[0;34m\u001B[0m\n\u001B[1;32m      1\u001B[0m \u001B[0;32mfrom\u001B[0m \u001B[0msklearn\u001B[0m\u001B[0;34m.\u001B[0m\u001B[0mpreprocessing\u001B[0m \u001B[0;32mimport\u001B[0m \u001B[0mMinMaxScaler\u001B[0m\u001B[0;34m\u001B[0m\u001B[0;34m\u001B[0m\u001B[0m\n\u001B[0;32m----> 2\u001B[0;31m \u001B[0mscaling\u001B[0m \u001B[0;34m=\u001B[0m \u001B[0mMinMaxScaler\u001B[0m\u001B[0;34m(\u001B[0m\u001B[0mfeature_range\u001B[0m\u001B[0;34m=\u001B[0m\u001B[0;34m(\u001B[0m\u001B[0;34m-\u001B[0m\u001B[0;36m1\u001B[0m\u001B[0;34m,\u001B[0m\u001B[0;36m1\u001B[0m\u001B[0;34m)\u001B[0m\u001B[0;34m)\u001B[0m\u001B[0;34m.\u001B[0m\u001B[0mfit\u001B[0m\u001B[0;34m(\u001B[0m\u001B[0mX_train\u001B[0m\u001B[0;34m)\u001B[0m\u001B[0;34m\u001B[0m\u001B[0;34m\u001B[0m\u001B[0m\n\u001B[0m\u001B[1;32m      3\u001B[0m \u001B[0mX_train\u001B[0m \u001B[0;34m=\u001B[0m \u001B[0mscaling\u001B[0m\u001B[0;34m.\u001B[0m\u001B[0mtransform\u001B[0m\u001B[0;34m(\u001B[0m\u001B[0mX_train\u001B[0m\u001B[0;34m)\u001B[0m\u001B[0;34m\u001B[0m\u001B[0;34m\u001B[0m\u001B[0m\n\u001B[1;32m      4\u001B[0m \u001B[0mX_test\u001B[0m \u001B[0;34m=\u001B[0m \u001B[0mscaling\u001B[0m\u001B[0;34m.\u001B[0m\u001B[0mtransform\u001B[0m\u001B[0;34m(\u001B[0m\u001B[0mX_test\u001B[0m\u001B[0;34m)\u001B[0m\u001B[0;34m\u001B[0m\u001B[0;34m\u001B[0m\u001B[0m\n",
      "\u001B[0;31mNameError\u001B[0m: name 'X_train' is not defined"
     ],
     "ename": "NameError",
     "evalue": "name 'X_train' is not defined",
     "output_type": "error"
    }
   ]
  },
  {
   "cell_type": "code",
   "source": [
    "import xgboost as xgb"
   ],
   "metadata": {
    "execution": {
     "iopub.status.busy": "2023-01-16T11:30:46.527484Z",
     "iopub.status.idle": "2023-01-16T11:30:46.528270Z",
     "shell.execute_reply.started": "2023-01-16T11:30:46.527960Z",
     "shell.execute_reply": "2023-01-16T11:30:46.527995Z"
    },
    "trusted": true
   },
   "execution_count": null,
   "outputs": []
  },
  {
   "cell_type": "code",
   "source": [
    "xgbClassificationModel = xgb.XGBClassifier(objective = 'reg:logistic', max_depth = 5, seed = 0, n_estimators=1000,eta = 0.05)"
   ],
   "metadata": {
    "execution": {
     "iopub.status.busy": "2023-01-16T11:30:46.529968Z",
     "iopub.status.idle": "2023-01-16T11:30:46.530492Z",
     "shell.execute_reply.started": "2023-01-16T11:30:46.530221Z",
     "shell.execute_reply": "2023-01-16T11:30:46.530247Z"
    },
    "trusted": true
   },
   "execution_count": null,
   "outputs": []
  },
  {
   "cell_type": "code",
   "source": [
    "xgbClassificationModel.fit(X_train, y_train)"
   ],
   "metadata": {
    "execution": {
     "iopub.status.busy": "2023-01-16T11:30:46.531999Z",
     "iopub.status.idle": "2023-01-16T11:30:46.532748Z",
     "shell.execute_reply.started": "2023-01-16T11:30:46.532496Z",
     "shell.execute_reply": "2023-01-16T11:30:46.532517Z"
    },
    "trusted": true
   },
   "execution_count": null,
   "outputs": []
  },
  {
   "cell_type": "code",
   "source": [
    "predictions_xgb = svmClassificationModel._predict_proba_lr(X_test)"
   ],
   "metadata": {
    "execution": {
     "iopub.status.busy": "2023-01-16T11:30:46.539225Z",
     "iopub.status.idle": "2023-01-16T11:30:46.539579Z",
     "shell.execute_reply.started": "2023-01-16T11:30:46.539405Z",
     "shell.execute_reply": "2023-01-16T11:30:46.539423Z"
    },
    "trusted": true
   },
   "execution_count": null,
   "outputs": []
  },
  {
   "cell_type": "code",
   "source": [
    "len(predictions_xgb[:,1])"
   ],
   "metadata": {
    "execution": {
     "iopub.status.busy": "2023-01-16T11:30:46.540780Z",
     "iopub.status.idle": "2023-01-16T11:30:46.541163Z",
     "shell.execute_reply.started": "2023-01-16T11:30:46.540974Z",
     "shell.execute_reply": "2023-01-16T11:30:46.540991Z"
    },
    "trusted": true
   },
   "execution_count": null,
   "outputs": []
  },
  {
   "cell_type": "code",
   "source": [
    "predictions_xgb = predictions_xgb[:,1]\n",
    "sample_dataset = pd.read_csv('/kaggle/input/amex-default-prediction/sample_submission.csv')\n",
    "output = pd.DataFrame({'customer_ID': sample_dataset.customer_ID, 'prediction': predictions_xgb})\n",
    "output.to_csv('Submission XGB v3.csv', index=False)"
   ],
   "metadata": {
    "execution": {
     "iopub.status.busy": "2023-01-16T11:30:46.545740Z",
     "iopub.status.idle": "2023-01-16T11:30:46.546510Z",
     "shell.execute_reply.started": "2023-01-16T11:30:46.546251Z",
     "shell.execute_reply": "2023-01-16T11:30:46.546289Z"
    },
    "trusted": true
   },
   "execution_count": null,
   "outputs": []
  }
 ]
}
