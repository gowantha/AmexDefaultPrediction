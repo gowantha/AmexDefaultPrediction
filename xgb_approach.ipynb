{
 "metadata": {
  "kernelspec": {
   "language": "python",
   "display_name": "Python 3",
   "name": "python3"
  },
  "language_info": {
   "name": "python",
   "version": "3.7.12",
   "mimetype": "text/x-python",
   "codemirror_mode": {
    "name": "ipython",
    "version": 3
   },
   "pygments_lexer": "ipython3",
   "nbconvert_exporter": "python",
   "file_extension": ".py"
  }
 },
 "nbformat_minor": 4,
 "nbformat": 4,
 "cells": [
  {
   "cell_type": "code",
   "source": [
    "import numpy as np\n",
    "import pandas as pd\n",
    "import seaborn as sns\n",
    "import matplotlib.pyplot as plt\n",
    "import gc\n",
    "\n",
    "import warnings\n",
    "warnings.filterwarnings(\"ignore\")\n",
    "\n",
    "import os\n",
    "for dirname, _, filenames in os.walk('/kaggle/input'):\n",
    "    for filename in filenames:\n",
    "        print(os.path.join(dirname, filename))"
   ],
   "metadata": {
    "execution": {
     "iopub.status.busy": "2023-01-16T16:07:23.145299Z",
     "iopub.execute_input": "2023-01-16T16:07:23.145873Z",
     "iopub.status.idle": "2023-01-16T16:07:23.178513Z",
     "shell.execute_reply.started": "2023-01-16T16:07:23.145759Z",
     "shell.execute_reply": "2023-01-16T16:07:23.176479Z"
    },
    "trusted": true
   },
   "execution_count": 1,
   "outputs": []
  },
  {
   "cell_type": "code",
   "source": [
    "raw_train_dataset = pd.read_feather('../input/amexfeather/train_data.ftr')\n",
    "\n",
    "# Keep the latest statement records for each customer, set customer_ID as the index, and sort by customer_ID\n",
    "train_dataset = raw_train_dataset.groupby('customer_ID').tail(1).set_index('customer_ID', drop=True).sort_index()\n",
    "del raw_train_dataset\n",
    "gc.collect()"
   ],
   "metadata": {
    "execution": {
     "iopub.status.busy": "2023-01-16T16:07:23.180358Z",
     "iopub.execute_input": "2023-01-16T16:07:23.181334Z",
     "iopub.status.idle": "2023-01-16T16:07:23.185993Z",
     "shell.execute_reply.started": "2023-01-16T16:07:23.181292Z",
     "shell.execute_reply": "2023-01-16T16:07:23.184962Z"
    },
    "trusted": true
   },
   "execution_count": 2,
   "outputs": []
  },
  {
   "cell_type": "code",
   "source": [
    "train_dataset.head()"
   ],
   "metadata": {
    "execution": {
     "iopub.status.busy": "2023-01-16T16:07:23.187193Z",
     "iopub.execute_input": "2023-01-16T16:07:23.187939Z",
     "iopub.status.idle": "2023-01-16T16:07:23.199329Z",
     "shell.execute_reply.started": "2023-01-16T16:07:23.187904Z",
     "shell.execute_reply": "2023-01-16T16:07:23.198355Z"
    },
    "trusted": true
   },
   "execution_count": 3,
   "outputs": []
  },
  {
   "cell_type": "code",
   "source": [
    "# find the categorical columns\n",
    "categorical_cols = []\n",
    "for col in train_dataset.columns:\n",
    "    if train_dataset[col].dtypes == 'category':\n",
    "        categorical_cols.append(col)\n",
    "categorical_cols"
   ],
   "metadata": {
    "execution": {
     "iopub.status.busy": "2023-01-16T16:07:23.203892Z",
     "iopub.execute_input": "2023-01-16T16:07:23.204772Z",
     "iopub.status.idle": "2023-01-16T16:07:23.214052Z",
     "shell.execute_reply.started": "2023-01-16T16:07:23.204729Z",
     "shell.execute_reply": "2023-01-16T16:07:23.213095Z"
    },
    "trusted": true
   },
   "execution_count": 4,
   "outputs": []
  },
  {
   "cell_type": "code",
   "source": [
    "numerical_cols = [col for col in train_dataset.columns if col not in categorical_cols + [\"target\"]]\n",
    "\n",
    "print(f'Total number of features: {len(train_dataset.columns)}')\n",
    "print(f'Total number of categorical features: {len(categorical_cols)}')\n",
    "print(f'Total number of continuos features: {len(numerical_cols)}')"
   ],
   "metadata": {
    "execution": {
     "iopub.status.busy": "2023-01-16T16:07:23.216134Z",
     "iopub.execute_input": "2023-01-16T16:07:23.216717Z",
     "iopub.status.idle": "2023-01-16T16:07:23.228127Z",
     "shell.execute_reply.started": "2023-01-16T16:07:23.216678Z",
     "shell.execute_reply": "2023-01-16T16:07:23.226187Z"
    },
    "trusted": true
   },
   "execution_count": 5,
   "outputs": []
  },
  {
   "cell_type": "code",
   "source": [
    "# add the date column to the list of columns to be dropped\n",
    "cols_to_drop = ['S_2']"
   ],
   "metadata": {
    "execution": {
     "iopub.status.busy": "2023-01-16T16:07:23.230677Z",
     "iopub.execute_input": "2023-01-16T16:07:23.231077Z",
     "iopub.status.idle": "2023-01-16T16:07:23.241481Z",
     "shell.execute_reply.started": "2023-01-16T16:07:23.231045Z",
     "shell.execute_reply": "2023-01-16T16:07:23.239148Z"
    },
    "trusted": true
   },
   "execution_count": 6,
   "outputs": []
  },
  {
   "cell_type": "code",
   "source": [
    "# cols_to_drop = []\n",
    "# find columns where 75% of the values are missing and add them to the list of columns to be dropped \n",
    "for col in train_dataset.columns:\n",
    "    if train_dataset[col].isna().sum()/train_dataset.shape[0] > 0.75:\n",
    "        cols_to_drop.append(col)\n",
    "print(len(cols_to_drop), cols_to_drop)"
   ],
   "metadata": {
    "execution": {
     "iopub.status.busy": "2023-01-16T16:07:23.243453Z",
     "iopub.execute_input": "2023-01-16T16:07:23.244118Z",
     "iopub.status.idle": "2023-01-16T16:07:23.254110Z",
     "shell.execute_reply.started": "2023-01-16T16:07:23.244074Z",
     "shell.execute_reply": "2023-01-16T16:07:23.252936Z"
    },
    "trusted": true
   },
   "execution_count": 7,
   "outputs": []
  },
  {
   "cell_type": "code",
   "source": [
    "train_dataset.shape\n",
    "# drop the columns where a majority of the values are missing\n",
    "train_dataset = train_dataset.drop(cols_to_drop, axis=1)\n",
    "train_dataset.shape"
   ],
   "metadata": {
    "execution": {
     "iopub.status.busy": "2023-01-16T16:07:23.255627Z",
     "iopub.execute_input": "2023-01-16T16:07:23.256279Z",
     "iopub.status.idle": "2023-01-16T16:07:23.266455Z",
     "shell.execute_reply.started": "2023-01-16T16:07:23.256214Z",
     "shell.execute_reply": "2023-01-16T16:07:23.265531Z"
    },
    "trusted": true
   },
   "execution_count": 8,
   "outputs": []
  },
  {
   "cell_type": "code",
   "source": [
    "# find columns with missing numerical values and categorical values of the train dataset\n",
    "cols_with_missing_num_vals = []\n",
    "cols_with_missing_cat_vals = []\n",
    "for col in train_dataset.columns:\n",
    "    if train_dataset[col].isna().sum() > 0:\n",
    "        if col in numerical_cols:\n",
    "            cols_with_missing_num_vals.append(col)\n",
    "        else:\n",
    "            cols_with_missing_cat_vals.append(col)\n",
    "print(\"Columns with mising numerical values\", len(cols_with_missing_num_vals), cols_with_missing_num_vals)\n",
    "print(\"Columns with mising numerical values\", len(cols_with_missing_cat_vals), cols_with_missing_cat_vals)"
   ],
   "metadata": {
    "execution": {
     "iopub.status.busy": "2023-01-16T16:07:23.268337Z",
     "iopub.execute_input": "2023-01-16T16:07:23.268811Z",
     "iopub.status.idle": "2023-01-16T16:07:23.277606Z",
     "shell.execute_reply.started": "2023-01-16T16:07:23.268771Z",
     "shell.execute_reply": "2023-01-16T16:07:23.276382Z"
    },
    "trusted": true
   },
   "execution_count": 9,
   "outputs": []
  },
  {
   "cell_type": "code",
   "source": [
    "# impute the missing numerical values with its median of the train dataset\n",
    "for col in cols_with_missing_num_vals:\n",
    "    train_dataset[col] = train_dataset[col].fillna(train_dataset[col].median())\n",
    "# impute the missing categorical values with its mode of the train dataset\n",
    "for col in cols_with_missing_cat_vals:\n",
    "    train_dataset[col] =  train_dataset[col].fillna(train_dataset[col].mode()[0])"
   ],
   "metadata": {
    "execution": {
     "iopub.status.busy": "2023-01-16T16:07:23.280040Z",
     "iopub.execute_input": "2023-01-16T16:07:23.280595Z",
     "iopub.status.idle": "2023-01-16T16:07:23.290576Z",
     "shell.execute_reply.started": "2023-01-16T16:07:23.280557Z",
     "shell.execute_reply": "2023-01-16T16:07:23.288854Z"
    },
    "trusted": true
   },
   "execution_count": 10,
   "outputs": []
  },
  {
   "cell_type": "code",
   "source": [
    "train_dataset.isna().sum()"
   ],
   "metadata": {
    "execution": {
     "iopub.status.busy": "2023-01-16T16:07:23.405797Z",
     "iopub.execute_input": "2023-01-16T16:07:23.406936Z",
     "iopub.status.idle": "2023-01-16T16:07:23.411902Z",
     "shell.execute_reply.started": "2023-01-16T16:07:23.406885Z",
     "shell.execute_reply": "2023-01-16T16:07:23.410840Z"
    },
    "trusted": true
   },
   "execution_count": 11,
   "outputs": []
  },
  {
   "cell_type": "code",
   "source": [
    "raw_test_dataset = pd.read_feather('../input/amexfeather/test_data.ftr')\n",
    "\n",
    "# Keep the latest statement records for each customer, set customer_ID as the index, and sort by customer_ID\n",
    "test_dataset = raw_test_dataset.groupby('customer_ID').tail(1).set_index('customer_ID', drop=True).sort_index()\n",
    "del raw_test_dataset\n",
    "gc.collect()"
   ],
   "metadata": {
    "execution": {
     "iopub.status.busy": "2023-01-16T16:07:23.414217Z",
     "iopub.execute_input": "2023-01-16T16:07:23.414826Z",
     "iopub.status.idle": "2023-01-16T16:07:23.425011Z",
     "shell.execute_reply.started": "2023-01-16T16:07:23.414785Z",
     "shell.execute_reply": "2023-01-16T16:07:23.423571Z"
    },
    "trusted": true
   },
   "execution_count": 12,
   "outputs": []
  },
  {
   "cell_type": "code",
   "source": [
    "test_dataset.shape\n",
    "# drop the columns where a majority of the values are missing\n",
    "test_dataset = test_dataset.drop(cols_to_drop, axis=1)\n",
    "test_dataset.shape"
   ],
   "metadata": {
    "execution": {
     "iopub.status.busy": "2023-01-16T16:07:23.426635Z",
     "iopub.execute_input": "2023-01-16T16:07:23.427106Z",
     "iopub.status.idle": "2023-01-16T16:07:23.438934Z",
     "shell.execute_reply.started": "2023-01-16T16:07:23.427065Z",
     "shell.execute_reply": "2023-01-16T16:07:23.436709Z"
    },
    "trusted": true
   },
   "execution_count": 13,
   "outputs": []
  },
  {
   "cell_type": "code",
   "source": [
    "test_dataset.isna().sum()"
   ],
   "metadata": {
    "execution": {
     "iopub.status.busy": "2023-01-16T16:07:23.441194Z",
     "iopub.execute_input": "2023-01-16T16:07:23.441976Z",
     "iopub.status.idle": "2023-01-16T16:07:23.450454Z",
     "shell.execute_reply.started": "2023-01-16T16:07:23.441939Z",
     "shell.execute_reply": "2023-01-16T16:07:23.449477Z"
    },
    "trusted": true
   },
   "execution_count": 14,
   "outputs": []
  },
  {
   "cell_type": "code",
   "source": [
    "# find columns with missing numerical values and categorical values of the test dataset\n",
    "cols_with_missing_num_vals_test = []\n",
    "cols_with_missing_cat_vals_test = []\n",
    "for col in test_dataset.columns:\n",
    "    if test_dataset[col].isna().sum() > 0:\n",
    "        if col in numerical_cols:\n",
    "            cols_with_missing_num_vals_test.append(col)\n",
    "        else:\n",
    "            cols_with_missing_cat_vals_test.append(col)\n",
    "print(\"Columns with mising numerical values\", len(cols_with_missing_num_vals_test), cols_with_missing_num_vals_test)\n",
    "print(\"Columns with mising numerical values\", len(cols_with_missing_cat_vals_test), cols_with_missing_cat_vals_test)"
   ],
   "metadata": {
    "execution": {
     "iopub.status.busy": "2023-01-16T16:07:23.452998Z",
     "iopub.execute_input": "2023-01-16T16:07:23.453699Z",
     "iopub.status.idle": "2023-01-16T16:07:23.463693Z",
     "shell.execute_reply.started": "2023-01-16T16:07:23.453661Z",
     "shell.execute_reply": "2023-01-16T16:07:23.462438Z"
    },
    "trusted": true
   },
   "execution_count": 15,
   "outputs": []
  },
  {
   "cell_type": "code",
   "source": [
    "# impute the missing numerical values with its median of the train dataset\n",
    "for col in cols_with_missing_num_vals_test:\n",
    "    test_dataset[col] = test_dataset[col].fillna(train_dataset[col].median())\n",
    "# impute the missing categorical values with its mode of the train dataset\n",
    "for col in cols_with_missing_cat_vals_test:\n",
    "    test_dataset[col] =  test_dataset[col].fillna(train_dataset[col].mode()[0])"
   ],
   "metadata": {
    "execution": {
     "iopub.status.busy": "2023-01-16T16:07:23.465067Z",
     "iopub.execute_input": "2023-01-16T16:07:23.465578Z",
     "iopub.status.idle": "2023-01-16T16:07:23.476848Z",
     "shell.execute_reply.started": "2023-01-16T16:07:23.465552Z",
     "shell.execute_reply": "2023-01-16T16:07:23.475933Z"
    },
    "trusted": true
   },
   "execution_count": 16,
   "outputs": []
  },
  {
   "cell_type": "code",
   "source": [
    "test_dataset.isna().sum()"
   ],
   "metadata": {
    "execution": {
     "iopub.status.busy": "2023-01-16T16:07:23.478498Z",
     "iopub.execute_input": "2023-01-16T16:07:23.478792Z",
     "iopub.status.idle": "2023-01-16T16:07:23.489786Z",
     "shell.execute_reply.started": "2023-01-16T16:07:23.478764Z",
     "shell.execute_reply": "2023-01-16T16:07:23.488653Z"
    },
    "trusted": true
   },
   "execution_count": 17,
   "outputs": []
  },
  {
   "cell_type": "code",
   "source": [
    "train_dataset_without_target = train_dataset.drop([\"target\"],axis=1)\n",
    "\n",
    "#get the correlation matrix\n",
    "cor_matrix = train_dataset_without_target.corr()\n",
    "col_core = set()\n",
    "\n",
    "for i in range(len(cor_matrix.columns)):\n",
    "    for j in range(i):\n",
    "        # if the correlation score between two features is greater than 0.9, remove one feature\n",
    "        if(cor_matrix.iloc[i, j] > 0.9):\n",
    "            col_name = cor_matrix.columns[i]\n",
    "#             print(cor_matrix.columns[i], cor_matrix.columns[j])\n",
    "            col_core.add(col_name)\n",
    "col_core"
   ],
   "metadata": {
    "execution": {
     "iopub.status.busy": "2023-01-16T16:07:23.491371Z",
     "iopub.execute_input": "2023-01-16T16:07:23.491893Z",
     "iopub.status.idle": "2023-01-16T16:07:23.502163Z",
     "shell.execute_reply.started": "2023-01-16T16:07:23.491858Z",
     "shell.execute_reply": "2023-01-16T16:07:23.500810Z"
    },
    "trusted": true
   },
   "execution_count": 18,
   "outputs": []
  },
  {
   "cell_type": "code",
   "source": [
    "print(train_dataset.shape)\n",
    "print(test_dataset.shape)\n",
    "\n",
    "# drop the columns with a high correlation ith other features\n",
    "train_dataset = train_dataset.drop(col_core, axis=1)\n",
    "test_dataset = test_dataset.drop(col_core, axis=1)\n",
    "print(train_dataset.shape)\n",
    "print(test_dataset.shape)"
   ],
   "metadata": {
    "execution": {
     "iopub.status.busy": "2023-01-16T16:07:23.503577Z",
     "iopub.execute_input": "2023-01-16T16:07:23.504039Z",
     "iopub.status.idle": "2023-01-16T16:07:23.515078Z",
     "shell.execute_reply.started": "2023-01-16T16:07:23.504010Z",
     "shell.execute_reply": "2023-01-16T16:07:23.513727Z"
    },
    "trusted": true
   },
   "execution_count": 19,
   "outputs": []
  },
  {
   "cell_type": "code",
   "source": [
    "trainX = train_dataset.drop(\"target\", axis = 1)\n",
    "trainY = train_dataset[\"target\"] "
   ],
   "metadata": {
    "execution": {
     "iopub.status.busy": "2023-01-16T16:07:23.516423Z",
     "iopub.execute_input": "2023-01-16T16:07:23.517514Z",
     "iopub.status.idle": "2023-01-16T16:07:23.529123Z",
     "shell.execute_reply.started": "2023-01-16T16:07:23.517446Z",
     "shell.execute_reply": "2023-01-16T16:07:23.528347Z"
    },
    "trusted": true
   },
   "execution_count": 20,
   "outputs": []
  },
  {
   "cell_type": "code",
   "source": [
    "print(train_dataset.shape)\n",
    "print(test_dataset.shape)\n",
    "print(trainX.shape)\n",
    "print(trainY.shape)"
   ],
   "metadata": {
    "execution": {
     "iopub.status.busy": "2023-01-16T16:07:23.530419Z",
     "iopub.execute_input": "2023-01-16T16:07:23.531529Z",
     "iopub.status.idle": "2023-01-16T16:07:23.541682Z",
     "shell.execute_reply.started": "2023-01-16T16:07:23.531488Z",
     "shell.execute_reply": "2023-01-16T16:07:23.540443Z"
    },
    "trusted": true
   },
   "execution_count": 21,
   "outputs": []
  },
  {
   "cell_type": "code",
   "source": [
    "categorical_cols.remove('D_66')"
   ],
   "metadata": {
    "execution": {
     "iopub.status.busy": "2023-01-16T16:07:23.543336Z",
     "iopub.execute_input": "2023-01-16T16:07:23.543895Z",
     "iopub.status.idle": "2023-01-16T16:07:23.554362Z",
     "shell.execute_reply.started": "2023-01-16T16:07:23.543853Z",
     "shell.execute_reply": "2023-01-16T16:07:23.552791Z"
    },
    "trusted": true
   },
   "execution_count": 22,
   "outputs": []
  },
  {
   "cell_type": "code",
   "source": [
    "for col in categorical_cols:\n",
    "    trainX[col] = trainX[col].astype(str)\n",
    "for col in categorical_cols:\n",
    "    test_dataset[col] = test_dataset[col].astype(str)"
   ],
   "metadata": {
    "execution": {
     "iopub.status.busy": "2023-01-16T16:07:23.555961Z",
     "iopub.execute_input": "2023-01-16T16:07:23.557749Z",
     "iopub.status.idle": "2023-01-16T16:07:23.565722Z",
     "shell.execute_reply.started": "2023-01-16T16:07:23.557702Z",
     "shell.execute_reply": "2023-01-16T16:07:23.564759Z"
    },
    "trusted": true
   },
   "execution_count": 23,
   "outputs": []
  },
  {
   "cell_type": "code",
   "source": [
    "trainX = pd.get_dummies(trainX, columns = categorical_cols)\n",
    "test_dataset = pd.get_dummies(test_dataset, columns = categorical_cols)\n",
    "\n",
    "test_dataset = test_dataset.reindex(columns = trainX.columns, fill_value=0)"
   ],
   "metadata": {
    "execution": {
     "iopub.status.busy": "2023-01-16T16:07:23.570668Z",
     "iopub.execute_input": "2023-01-16T16:07:23.571214Z",
     "iopub.status.idle": "2023-01-16T16:07:23.580159Z",
     "shell.execute_reply.started": "2023-01-16T16:07:23.571158Z",
     "shell.execute_reply": "2023-01-16T16:07:23.578522Z"
    },
    "trusted": true
   },
   "execution_count": 24,
   "outputs": []
  },
  {
   "cell_type": "code",
   "source": [
    "print(train_dataset.shape)\n",
    "print(test_dataset.shape)\n",
    "print(trainX.shape)\n",
    "print(trainY.shape)"
   ],
   "metadata": {
    "execution": {
     "iopub.status.busy": "2023-01-16T16:07:23.582376Z",
     "iopub.execute_input": "2023-01-16T16:07:23.582990Z",
     "iopub.status.idle": "2023-01-16T16:07:23.594398Z",
     "shell.execute_reply.started": "2023-01-16T16:07:23.582946Z",
     "shell.execute_reply": "2023-01-16T16:07:23.592474Z"
    },
    "trusted": true
   },
   "execution_count": 25,
   "outputs": []
  },
  {
   "cell_type": "code",
   "source": [
    "# from sklearn.model_selection import train_test_split"
   ],
   "metadata": {
    "execution": {
     "iopub.status.busy": "2023-01-16T16:07:23.595983Z",
     "iopub.execute_input": "2023-01-16T16:07:23.597064Z",
     "iopub.status.idle": "2023-01-16T16:07:23.606629Z",
     "shell.execute_reply.started": "2023-01-16T16:07:23.597020Z",
     "shell.execute_reply": "2023-01-16T16:07:23.605469Z"
    },
    "trusted": true
   },
   "execution_count": 26,
   "outputs": []
  },
  {
   "cell_type": "code",
   "source": [
    "# X_train, X_test, y_train, y_test = train_test_split( trainX, trainY, test_size=0.3, random_state=69)"
   ],
   "metadata": {
    "execution": {
     "iopub.status.busy": "2023-01-16T16:07:23.608000Z",
     "iopub.execute_input": "2023-01-16T16:07:23.608547Z",
     "iopub.status.idle": "2023-01-16T16:07:23.618678Z",
     "shell.execute_reply.started": "2023-01-16T16:07:23.608516Z",
     "shell.execute_reply": "2023-01-16T16:07:23.617692Z"
    },
    "trusted": true
   },
   "execution_count": 27,
   "outputs": []
  },
  {
   "cell_type": "code",
   "source": [
    "# from imblearn.over_sampling import SMOTE\n",
    "\n",
    "# # oversample to handle class imbalance\n",
    "# oversample = SMOTE()\n",
    "# X_train, y_train = oversample.fit_resample(X_train, y_train)"
   ],
   "metadata": {
    "execution": {
     "iopub.status.busy": "2023-01-16T16:07:23.620216Z",
     "iopub.execute_input": "2023-01-16T16:07:23.620668Z",
     "iopub.status.idle": "2023-01-16T16:07:23.633019Z",
     "shell.execute_reply.started": "2023-01-16T16:07:23.620641Z",
     "shell.execute_reply": "2023-01-16T16:07:23.631497Z"
    },
    "trusted": true
   },
   "execution_count": 28,
   "outputs": []
  },
  {
   "cell_type": "code",
   "source": [
    "# from sklearn.preprocessing import MinMaxScaler\n",
    "# scaling = MinMaxScaler(feature_range=(-1,1)).fit(X_train)\n",
    "# X_train = scaling.transform(X_train)\n",
    "# X_test = scaling.transform(X_test)"
   ],
   "metadata": {
    "execution": {
     "iopub.status.busy": "2023-01-16T16:07:23.635549Z",
     "iopub.execute_input": "2023-01-16T16:07:23.636429Z",
     "iopub.status.idle": "2023-01-16T16:07:23.643226Z",
     "shell.execute_reply.started": "2023-01-16T16:07:23.636387Z",
     "shell.execute_reply": "2023-01-16T16:07:23.642441Z"
    },
    "trusted": true
   },
   "execution_count": 29,
   "outputs": []
  },
  {
   "cell_type": "code",
   "source": [
    "# import xgboost as xgb"
   ],
   "metadata": {
    "execution": {
     "iopub.status.busy": "2023-01-16T16:07:23.644908Z",
     "iopub.execute_input": "2023-01-16T16:07:23.645407Z",
     "iopub.status.idle": "2023-01-16T16:07:23.657866Z",
     "shell.execute_reply.started": "2023-01-16T16:07:23.645375Z",
     "shell.execute_reply": "2023-01-16T16:07:23.656488Z"
    },
    "trusted": true
   },
   "execution_count": 30,
   "outputs": []
  },
  {
   "cell_type": "code",
   "source": [
    "# xgbClassificationModel = xgb.XGBClassifier(objective = 'reg:logistic', max_depth = 5, seed = 0, n_estimators=1000,eta = 0.05)"
   ],
   "metadata": {
    "execution": {
     "iopub.status.busy": "2023-01-16T16:07:23.659085Z",
     "iopub.execute_input": "2023-01-16T16:07:23.660318Z",
     "iopub.status.idle": "2023-01-16T16:07:23.671142Z",
     "shell.execute_reply.started": "2023-01-16T16:07:23.660280Z",
     "shell.execute_reply": "2023-01-16T16:07:23.669413Z"
    },
    "trusted": true
   },
   "execution_count": 31,
   "outputs": []
  },
  {
   "cell_type": "code",
   "source": [
    "# xgbClassificationModel.fit(X_train, y_train)"
   ],
   "metadata": {
    "execution": {
     "iopub.status.busy": "2023-01-16T16:07:23.673318Z",
     "iopub.execute_input": "2023-01-16T16:07:23.674189Z",
     "iopub.status.idle": "2023-01-16T16:07:23.683908Z",
     "shell.execute_reply.started": "2023-01-16T16:07:23.674157Z",
     "shell.execute_reply": "2023-01-16T16:07:23.683038Z"
    },
    "trusted": true
   },
   "execution_count": 32,
   "outputs": []
  },
  {
   "cell_type": "code",
   "source": [
    "# def amex_metric(y_true: pd.DataFrame, y_pred: pd.DataFrame) -> float:\n",
    "\n",
    "#     def top_four_percent_captured(y_true: pd.DataFrame, y_pred: pd.DataFrame) -> float:\n",
    "#         df = (pd.concat([y_true, y_pred], axis='columns')\n",
    "#               .sort_values('prediction', ascending=False))\n",
    "#         df['weight'] = df['target'].apply(lambda x: 20 if x==0 else 1)\n",
    "#         four_pct_cutoff = int(0.04 * df['weight'].sum())\n",
    "#         df['weight_cumsum'] = df['weight'].cumsum()\n",
    "#         df_cutoff = df.loc[df['weight_cumsum'] <= four_pct_cutoff]\n",
    "#         return (df_cutoff['target'] == 1).sum() / (df['target'] == 1).sum()\n",
    "        \n",
    "#     def weighted_gini(y_true: pd.DataFrame, y_pred: pd.DataFrame) -> float:\n",
    "#         df = (pd.concat([y_true, y_pred], axis='columns')\n",
    "#               .sort_values('prediction', ascending=False))\n",
    "#         df['weight'] = df['target'].apply(lambda x: 20 if x==0 else 1)\n",
    "#         df['random'] = (df['weight'] / df['weight'].sum()).cumsum()\n",
    "#         total_pos = (df['target'] * df['weight']).sum()\n",
    "#         df['cum_pos_found'] = (df['target'] * df['weight']).cumsum()\n",
    "#         df['lorentz'] = df['cum_pos_found'] / total_pos\n",
    "#         df['gini'] = (df['lorentz'] - df['random']) * df['weight']\n",
    "#         return df['gini'].sum()\n",
    "\n",
    "#     def normalized_weighted_gini(y_true: pd.DataFrame, y_pred: pd.DataFrame) -> float:\n",
    "#         y_true_pred = y_true.rename(columns={'target': 'prediction'})\n",
    "#         return weighted_gini(y_true, y_pred) / weighted_gini(y_true, y_true_pred)\n",
    "\n",
    "#     g = normalized_weighted_gini(y_true, y_pred)\n",
    "#     d = top_four_percent_captured(y_true, y_pred)\n",
    "\n",
    "#     return 0.5 * (g + d)"
   ],
   "metadata": {
    "execution": {
     "iopub.status.busy": "2023-01-16T16:07:23.685523Z",
     "iopub.execute_input": "2023-01-16T16:07:23.685993Z",
     "iopub.status.idle": "2023-01-16T16:07:23.696760Z",
     "shell.execute_reply.started": "2023-01-16T16:07:23.685961Z",
     "shell.execute_reply": "2023-01-16T16:07:23.695025Z"
    },
    "trusted": true
   },
   "execution_count": 33,
   "outputs": []
  },
  {
   "cell_type": "code",
   "source": [
    "# predictions_xgb = xgbClassificationModel.predict_proba(X_test)"
   ],
   "metadata": {
    "execution": {
     "iopub.status.busy": "2023-01-16T16:07:23.698195Z",
     "iopub.execute_input": "2023-01-16T16:07:23.699343Z",
     "iopub.status.idle": "2023-01-16T16:07:23.710015Z",
     "shell.execute_reply.started": "2023-01-16T16:07:23.699294Z",
     "shell.execute_reply": "2023-01-16T16:07:23.708782Z"
    },
    "trusted": true
   },
   "execution_count": 34,
   "outputs": []
  },
  {
   "cell_type": "code",
   "source": [
    "# y_true = y_test.to_frame(name = 'target')\n",
    "# y_true = y_true.reset_index(drop=True)\n",
    "# y_pred = pd.DataFrame(predictions_xgb[:,1], columns = ['prediction'])"
   ],
   "metadata": {
    "execution": {
     "iopub.status.busy": "2023-01-16T16:07:23.711437Z",
     "iopub.execute_input": "2023-01-16T16:07:23.712183Z",
     "iopub.status.idle": "2023-01-16T16:07:23.721897Z",
     "shell.execute_reply.started": "2023-01-16T16:07:23.712148Z",
     "shell.execute_reply": "2023-01-16T16:07:23.720942Z"
    },
    "trusted": true
   },
   "execution_count": 35,
   "outputs": []
  },
  {
   "cell_type": "code",
   "source": [
    "# amex_metric(y_true, y_pred)"
   ],
   "metadata": {
    "execution": {
     "iopub.status.busy": "2023-01-16T16:07:23.723416Z",
     "iopub.execute_input": "2023-01-16T16:07:23.723975Z",
     "iopub.status.idle": "2023-01-16T16:07:23.737314Z",
     "shell.execute_reply.started": "2023-01-16T16:07:23.723944Z",
     "shell.execute_reply": "2023-01-16T16:07:23.735607Z"
    },
    "trusted": true
   },
   "execution_count": 36,
   "outputs": []
  },
  {
   "cell_type": "code",
   "source": [
    "from imblearn.over_sampling import SMOTE\n",
    "\n",
    "# oversample to handle class imbalance\n",
    "oversample = SMOTE()\n",
    "X_train, y_train = oversample.fit_resample(trainX, trainY)"
   ],
   "metadata": {
    "execution": {
     "iopub.status.busy": "2023-01-16T16:07:23.739418Z",
     "iopub.execute_input": "2023-01-16T16:07:23.740044Z",
     "iopub.status.idle": "2023-01-16T16:07:23.750442Z",
     "shell.execute_reply.started": "2023-01-16T16:07:23.739999Z",
     "shell.execute_reply": "2023-01-16T16:07:23.749445Z"
    },
    "trusted": true
   },
   "execution_count": 37,
   "outputs": []
  },
  {
   "cell_type": "code",
   "source": [
    "X_test = test_dataset"
   ],
   "metadata": {
    "execution": {
     "iopub.status.busy": "2023-01-16T16:07:23.751924Z",
     "iopub.execute_input": "2023-01-16T16:07:23.752380Z",
     "iopub.status.idle": "2023-01-16T16:07:23.764134Z",
     "shell.execute_reply.started": "2023-01-16T16:07:23.752348Z",
     "shell.execute_reply": "2023-01-16T16:07:23.762848Z"
    },
    "trusted": true
   },
   "execution_count": 38,
   "outputs": []
  },
  {
   "cell_type": "code",
   "source": [
    "from sklearn.preprocessing import MinMaxScaler\n",
    "scaling = MinMaxScaler(feature_range=(-1,1)).fit(X_train)\n",
    "X_train = scaling.transform(X_train)\n",
    "X_test = scaling.transform(X_test)"
   ],
   "metadata": {
    "execution": {
     "iopub.status.busy": "2023-01-16T16:07:23.765963Z",
     "iopub.execute_input": "2023-01-16T16:07:23.766961Z",
     "iopub.status.idle": "2023-01-16T16:07:23.776954Z",
     "shell.execute_reply.started": "2023-01-16T16:07:23.766914Z",
     "shell.execute_reply": "2023-01-16T16:07:23.776043Z"
    },
    "trusted": true
   },
   "execution_count": 39,
   "outputs": []
  },
  {
   "cell_type": "code",
   "source": [
    "import xgboost as xgb"
   ],
   "metadata": {
    "execution": {
     "iopub.status.busy": "2023-01-16T16:07:23.778386Z",
     "iopub.execute_input": "2023-01-16T16:07:23.779139Z",
     "iopub.status.idle": "2023-01-16T16:07:23.791186Z",
     "shell.execute_reply.started": "2023-01-16T16:07:23.779103Z",
     "shell.execute_reply": "2023-01-16T16:07:23.789846Z"
    },
    "trusted": true
   },
   "execution_count": 40,
   "outputs": []
  },
  {
   "cell_type": "code",
   "source": [
    "xgbClassificationModel = xgb.XGBClassifier(objective = 'reg:logistic', max_depth = 5, seed = 0, n_estimators=1000,eta = 0.05)"
   ],
   "metadata": {
    "execution": {
     "iopub.status.busy": "2023-01-16T16:07:23.792977Z",
     "iopub.execute_input": "2023-01-16T16:07:23.793682Z",
     "iopub.status.idle": "2023-01-16T16:07:23.804440Z",
     "shell.execute_reply.started": "2023-01-16T16:07:23.793638Z",
     "shell.execute_reply": "2023-01-16T16:07:23.803170Z"
    },
    "trusted": true
   },
   "execution_count": 41,
   "outputs": []
  },
  {
   "cell_type": "code",
   "source": [
    "xgbClassificationModel.fit(X_train, y_train)"
   ],
   "metadata": {
    "execution": {
     "iopub.status.busy": "2023-01-16T16:07:23.806225Z",
     "iopub.execute_input": "2023-01-16T16:07:23.807566Z",
     "iopub.status.idle": "2023-01-16T16:07:23.816675Z",
     "shell.execute_reply.started": "2023-01-16T16:07:23.807531Z",
     "shell.execute_reply": "2023-01-16T16:07:23.815200Z"
    },
    "trusted": true
   },
   "execution_count": 42,
   "outputs": []
  },
  {
   "cell_type": "code",
   "source": [
    "predictions_xgb = xgbClassificationModel.predict_proba(X_test)"
   ],
   "metadata": {
    "execution": {
     "iopub.status.busy": "2023-01-16T16:07:23.818603Z",
     "iopub.execute_input": "2023-01-16T16:07:23.819471Z",
     "iopub.status.idle": "2023-01-16T16:07:23.827994Z",
     "shell.execute_reply.started": "2023-01-16T16:07:23.819428Z",
     "shell.execute_reply": "2023-01-16T16:07:23.826050Z"
    },
    "trusted": true
   },
   "execution_count": 43,
   "outputs": []
  },
  {
   "cell_type": "code",
   "source": [
    "len(predictions_xgb[:,1])"
   ],
   "metadata": {
    "execution": {
     "iopub.status.busy": "2023-01-16T16:07:23.829904Z",
     "iopub.execute_input": "2023-01-16T16:07:23.830607Z",
     "iopub.status.idle": "2023-01-16T16:07:23.839831Z",
     "shell.execute_reply.started": "2023-01-16T16:07:23.830563Z",
     "shell.execute_reply": "2023-01-16T16:07:23.838777Z"
    },
    "trusted": true
   },
   "execution_count": 44,
   "outputs": []
  },
  {
   "cell_type": "code",
   "source": [
    "predictions_xgb = predictions_xgb[:,1]\n",
    "sample_dataset = pd.read_csv('/kaggle/input/amex-default-prediction/sample_submission.csv')\n",
    "output = pd.DataFrame({'customer_ID': sample_dataset.customer_ID, 'prediction': predictions_xgb})\n",
    "output.to_csv('Submission XGB v3.csv', index=False)"
   ],
   "metadata": {
    "execution": {
     "iopub.status.busy": "2023-01-16T16:07:23.845745Z",
     "iopub.execute_input": "2023-01-16T16:07:23.846476Z",
     "iopub.status.idle": "2023-01-16T16:07:23.853842Z",
     "shell.execute_reply.started": "2023-01-16T16:07:23.846445Z",
     "shell.execute_reply": "2023-01-16T16:07:23.852053Z"
    },
    "trusted": true
   },
   "execution_count": 45,
   "outputs": []
  }
 ]
}
